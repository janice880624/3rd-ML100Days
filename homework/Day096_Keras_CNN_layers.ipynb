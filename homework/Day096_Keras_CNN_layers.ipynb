{
  "nbformat": 4,
  "nbformat_minor": 0,
  "metadata": {
    "colab": {
      "name": "Day096_Keras_CNN_layers.ipynb",
      "provenance": []
    },
    "kernelspec": {
      "name": "python3",
      "display_name": "Python 3"
    }
  },
  "cells": [
    {
      "cell_type": "code",
      "metadata": {
        "id": "RhZGPvCz2nxn",
        "colab_type": "code",
        "colab": {}
      },
      "source": [
        "# 1.第37行\n",
        "# 2.Adadelta\n",
        "# 3.2層\n",
        "# 4.Total params: 1,199,882 "
      ],
      "execution_count": 0,
      "outputs": []
    }
  ]
}