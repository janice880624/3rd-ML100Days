{
 "cells": [
  {
   "cell_type": "markdown",
   "metadata": {},
   "source": [
    "## Work\n",
    "1. 請將 Epoch 加到 500 個，並觀察 learning curve 的走勢\n",
    "2. 請將 Optimizer 換成 SGD，並觀察 learning curve 的走勢"
   ]
  },
  {
   "cell_type": "code",
   "execution_count": 1,
   "metadata": {},
   "outputs": [
    {
     "name": "stderr",
     "output_type": "stream",
     "text": [
      "Using TensorFlow backend.\n"
     ]
    }
   ],
   "source": [
    "import os\n",
    "import keras\n",
    "\n",
    "# 本作業可以不需使用 GPU, 將 GPU 設定為 \"無\" (若有 GPU 且想開啟，可設為 \"0\")\n",
    "os.environ[\"CUDA_VISIBLE_DEVICES\"] = \"\""
   ]
  },
  {
   "cell_type": "code",
   "execution_count": 2,
   "metadata": {},
   "outputs": [],
   "source": [
    "# 從 Keras 的內建功能中，取得 train 與 test 資料集\n",
    "train, test = keras.datasets.cifar10.load_data()"
   ]
  },
  {
   "cell_type": "code",
   "execution_count": 3,
   "metadata": {},
   "outputs": [],
   "source": [
    "# 將 X 與 Y 獨立放進變數\n",
    "x_train, y_train = train\n",
    "x_test, y_test = test\n",
    "# 資料前處理 - 標準化\n",
    "x_train = x_train / 255.\n",
    "x_test = x_test / 255.\n",
    "\n",
    "# 將資料從圖形 (RGB) 轉為向量 (Single Vector)\n",
    "x_train = x_train.reshape((len(x_train), -1))\n",
    "x_test = x_test.reshape((len(x_test), -1))\n",
    "\n",
    "# 將目標轉為 one-hot encoding\n",
    "y_train = keras.utils.to_categorical(y_train, num_classes=10)\n",
    "y_test = keras.utils.to_categorical(y_test, num_classes=10)"
   ]
  },
  {
   "cell_type": "code",
   "execution_count": 4,
   "metadata": {},
   "outputs": [],
   "source": [
    "def build_mlp():\n",
    "    input_layer = keras.layers.Input([x_train.shape[-1]])\n",
    "    x = keras.layers.Dense(units=512, activation=\"relu\")(input_layer)\n",
    "    x = keras.layers.Dense(units=256, activation=\"relu\")(x)\n",
    "    x = keras.layers.Dense(units=128, activation=\"relu\")(x)\n",
    "    out = keras.layers.Dense(units=10, activation=\"softmax\")(x)\n",
    "    \n",
    "    model = keras.models.Model(inputs=[input_layer], outputs=[out])\n",
    "    return model\n",
    "model = build_mlp()"
   ]
  },
  {
   "cell_type": "code",
   "execution_count": 5,
   "metadata": {},
   "outputs": [
    {
     "name": "stdout",
     "output_type": "stream",
     "text": [
      "_________________________________________________________________\n",
      "Layer (type)                 Output Shape              Param #   \n",
      "=================================================================\n",
      "input_1 (InputLayer)         (None, 3072)              0         \n",
      "_________________________________________________________________\n",
      "dense_1 (Dense)              (None, 512)               1573376   \n",
      "_________________________________________________________________\n",
      "dense_2 (Dense)              (None, 256)               131328    \n",
      "_________________________________________________________________\n",
      "dense_3 (Dense)              (None, 128)               32896     \n",
      "_________________________________________________________________\n",
      "dense_4 (Dense)              (None, 10)                1290      \n",
      "=================================================================\n",
      "Total params: 1,738,890\n",
      "Trainable params: 1,738,890\n",
      "Non-trainable params: 0\n",
      "_________________________________________________________________\n"
     ]
    }
   ],
   "source": [
    "\"\"\"\n",
    "Compile 模型\n",
    "\"\"\"\n",
    "model.summary()\n",
    "\n",
    "optimizer = keras.optimizers.Adam(lr=0.001)\n",
    "model.compile(loss=\"categorical_crossentropy\", metrics=[\"accuracy\"], optimizer=optimizer)"
   ]
  },
  {
   "cell_type": "code",
   "execution_count": 6,
   "metadata": {
    "scrolled": true
   },
   "outputs": [
    {
     "name": "stdout",
     "output_type": "stream",
     "text": [
      "Train on 50000 samples, validate on 10000 samples\n",
      "Epoch 1/10\n",
      "50000/50000 [==============================] - 18s 369us/step - loss: 1.9446 - acc: 0.2979 - val_loss: 1.7976 - val_acc: 0.3542\n",
      "Epoch 2/10\n",
      "50000/50000 [==============================] - 17s 332us/step - loss: 1.7166 - acc: 0.3887 - val_loss: 1.6614 - val_acc: 0.4146\n",
      "Epoch 3/10\n",
      "50000/50000 [==============================] - 17s 335us/step - loss: 1.6208 - acc: 0.4224 - val_loss: 1.5884 - val_acc: 0.4348\n",
      "Epoch 4/10\n",
      "50000/50000 [==============================] - 17s 331us/step - loss: 1.5619 - acc: 0.4441 - val_loss: 1.5700 - val_acc: 0.4300\n",
      "Epoch 5/10\n",
      "50000/50000 [==============================] - 17s 334us/step - loss: 1.5081 - acc: 0.4621 - val_loss: 1.5082 - val_acc: 0.4595\n",
      "Epoch 6/10\n",
      "50000/50000 [==============================] - 18s 351us/step - loss: 1.4732 - acc: 0.4743 - val_loss: 1.5052 - val_acc: 0.4613\n",
      "Epoch 7/10\n",
      "50000/50000 [==============================] - 17s 344us/step - loss: 1.4424 - acc: 0.4853 - val_loss: 1.4691 - val_acc: 0.4750\n",
      "Epoch 8/10\n",
      "50000/50000 [==============================] - 17s 334us/step - loss: 1.4089 - acc: 0.4978 - val_loss: 1.4612 - val_acc: 0.4810\n",
      "Epoch 9/10\n",
      "50000/50000 [==============================] - 18s 359us/step - loss: 1.3771 - acc: 0.5114 - val_loss: 1.4314 - val_acc: 0.4854\n",
      "Epoch 10/10\n",
      "50000/50000 [==============================] - 17s 345us/step - loss: 1.3605 - acc: 0.5167 - val_loss: 1.4367 - val_acc: 0.4905\n"
     ]
    },
    {
     "data": {
      "text/plain": [
       "<keras.callbacks.History at 0x11c26c5f8>"
      ]
     },
     "execution_count": 6,
     "metadata": {},
     "output_type": "execute_result"
    }
   ],
   "source": [
    "\"\"\"\n",
    "設定要訓練的 Epoch 數\n",
    "\"\"\"\n",
    "model.fit(x_train, y_train, \n",
    "          epochs=10, \n",
    "          batch_size=256, \n",
    "          validation_data=(x_test, y_test), \n",
    "          shuffle=True)"
   ]
  },
  {
   "cell_type": "code",
   "execution_count": 7,
   "metadata": {},
   "outputs": [
    {
     "data": {
      "text/plain": [
       "<Figure size 640x480 with 1 Axes>"
      ]
     },
     "metadata": {},
     "output_type": "display_data"
    },
    {
     "data": {
      "text/plain": [
       "<Figure size 640x480 with 1 Axes>"
      ]
     },
     "metadata": {},
     "output_type": "display_data"
    }
   ],
   "source": [
    "import matplotlib.pyplot as plt\n",
    "# 以視覺畫方式檢視訓練過程\n",
    "\n",
    "train_loss = model.history.history[\"loss\"]\n",
    "valid_loss = model.history.history[\"val_loss\"]\n",
    "\n",
    "train_acc = model.history.history[\"acc\"]\n",
    "valid_acc = model.history.history[\"val_acc\"]\n",
    "\n",
    "plt.plot(range(len(train_loss)), train_loss, label=\"train loss\")\n",
    "plt.plot(range(len(valid_loss)), valid_loss, label=\"valid loss\")\n",
    "plt.legend()\n",
    "plt.title(\"Loss\")\n",
    "plt.show()\n",
    "\n",
    "plt.plot(range(len(train_acc)), train_acc, label=\"train accuracy\")\n",
    "plt.plot(range(len(valid_acc)), valid_acc, label=\"valid accuracy\")\n",
    "plt.legend()\n",
    "plt.title(\"Accuracy\")\n",
    "plt.show()"
   ]
  },
  {
   "cell_type": "code",
   "execution_count": 9,
   "metadata": {},
   "outputs": [],
   "source": [
    "optimizer = keras.optimizers.SGD(lr=0.001)\n",
    "model.compile(loss=\"categorical_crossentropy\", metrics=[\"accuracy\"], optimizer=optimizer)"
   ]
  },
  {
   "cell_type": "code",
   "execution_count": 10,
   "metadata": {},
   "outputs": [
    {
     "name": "stdout",
     "output_type": "stream",
     "text": [
      "Train on 50000 samples, validate on 10000 samples\n",
      "Epoch 1/10\n",
      "50000/50000 [==============================] - 13s 270us/step - loss: 1.2954 - acc: 0.5431 - val_loss: 1.3847 - val_acc: 0.5121\n",
      "Epoch 2/10\n",
      "50000/50000 [==============================] - 14s 274us/step - loss: 1.2746 - acc: 0.5512 - val_loss: 1.3756 - val_acc: 0.5149\n",
      "Epoch 3/10\n",
      "50000/50000 [==============================] - 14s 281us/step - loss: 1.2666 - acc: 0.5538 - val_loss: 1.3714 - val_acc: 0.5160\n",
      "Epoch 4/10\n",
      "50000/50000 [==============================] - 14s 283us/step - loss: 1.2613 - acc: 0.5550 - val_loss: 1.3683 - val_acc: 0.5164\n",
      "Epoch 5/10\n",
      "50000/50000 [==============================] - 14s 283us/step - loss: 1.2573 - acc: 0.5561 - val_loss: 1.3662 - val_acc: 0.5156\n",
      "Epoch 6/10\n",
      "50000/50000 [==============================] - 14s 285us/step - loss: 1.2541 - acc: 0.5584 - val_loss: 1.3648 - val_acc: 0.5157\n",
      "Epoch 7/10\n",
      "50000/50000 [==============================] - 17s 331us/step - loss: 1.2514 - acc: 0.5585 - val_loss: 1.3636 - val_acc: 0.5156\n",
      "Epoch 8/10\n",
      "50000/50000 [==============================] - 15s 297us/step - loss: 1.2491 - acc: 0.5597 - val_loss: 1.3622 - val_acc: 0.5166\n",
      "Epoch 9/10\n",
      "50000/50000 [==============================] - 15s 293us/step - loss: 1.2470 - acc: 0.5604 - val_loss: 1.3617 - val_acc: 0.5171\n",
      "Epoch 10/10\n",
      "50000/50000 [==============================] - 15s 303us/step - loss: 1.2451 - acc: 0.5599 - val_loss: 1.3612 - val_acc: 0.5173\n"
     ]
    },
    {
     "data": {
      "text/plain": [
       "<keras.callbacks.History at 0x11c26cf98>"
      ]
     },
     "execution_count": 10,
     "metadata": {},
     "output_type": "execute_result"
    }
   ],
   "source": [
    "model.fit(x_train, y_train, \n",
    "          epochs=10, \n",
    "          batch_size=256, \n",
    "          validation_data=(x_test, y_test), \n",
    "          shuffle=True)"
   ]
  },
  {
   "cell_type": "code",
   "execution_count": null,
   "metadata": {},
   "outputs": [],
   "source": []
  }
 ],
 "metadata": {
  "kernelspec": {
   "display_name": "Python 3",
   "language": "python",
   "name": "python3"
  },
  "language_info": {
   "codemirror_mode": {
    "name": "ipython",
    "version": 3
   },
   "file_extension": ".py",
   "mimetype": "text/x-python",
   "name": "python",
   "nbconvert_exporter": "python",
   "pygments_lexer": "ipython3",
   "version": "3.6.8"
  }
 },
 "nbformat": 4,
 "nbformat_minor": 2
}
